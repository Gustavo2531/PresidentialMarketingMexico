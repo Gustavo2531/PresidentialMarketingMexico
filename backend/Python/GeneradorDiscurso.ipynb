{
 "cells": [
  {
   "cell_type": "code",
   "execution_count": 134,
   "metadata": {},
   "outputs": [],
   "source": [
    "import numpy as np\n",
    "import pandas as pd\n",
    "from keras.models import Sequential\n",
    "from keras.layers import Dense\n",
    "from keras.layers import Dropout\n",
    "from keras.layers import LSTM\n",
    "from keras.layers import RNN\n",
    "from keras.utils import np_utils\n",
    "from os import path"
   ]
  },
  {
   "cell_type": "code",
   "execution_count": 135,
   "metadata": {},
   "outputs": [
    {
     "data": {
      "text/plain": [
       "'después de 20 días de campaña tengo tiempo para estar en la casa, y pegar estampitas que le traje a jesús de la gira por el norte.\\nya no soy peje, ahora soy andresmanuelovich\\nmeade, además de tapadera, es un calumniador. anexo las pruebas para demostrar que los \"tres departamentos\" no son míos. él ya lo sabía, pero anda muy nervioso, lo comprendo.\\naquí pobremente echando novio.\\nvamos a ganar el día primero de julio y no vamos a fallarle al pueblo. el poder solo tiene sentido, y se convierte en virtud, cuando se pone al servicio de los demás.\\n¡gracias!\\nagradezco al doctor rodolfo neri vela su confianza. es un gran científico, el único astronauta mexicano y está demostrando ser un buen ciudadano. no lo decepcionaré y siempre estaré a la altura de quienes, como él, desean un cambio verdadero.\\nestuvimos en milpa alta y xochimilco, miren la plaza de este último lugar, histórico y chinampero.\\nmiren cómo nos fue en nogales. como diría juan gabriel ‘a mí me gusta mucho estar en la frontera’.\\nno es para presumir pero todo se está alineando, hasta en el balero, la tercera es la vencida.\\nla mafia del poder está al borde de un ataque de nervios, no les ha funcionado ni les funcionará la guerra sucia. hagan lo que hagan no dejamos de crecer. miren esta encuesta.\\nel pleito del prian es real, no fingido; es importante no azuzar. el horno no está para bollos. es mejor que se vean como adversarios a vencer y no como enemigos a destruir. nadie debe ser avasallado ni atentar contra la estabilidad de méxico. bájenle una rayita a su beligerancia\\nun día después del debate, la gente se manifestó con convicción en ixtapaluca, chalco y valle de chalco, estado de méxico.\\nni la guerra sucia, ni la manipulación, impedirán el cambio verdadero. aplica la frase:\"el pueblo tiene hambre y sed de justicia\".\\nsi solo fuese por la voluntad de la gente podríamos decir \\'este arroz ya se coció\\', pero debemos prepararnos para enfrentar cualquier intento de fraude. por eso te pido que ayudes a defender el voto y la democracia.\\ntengo información de que los de la mafia del poder mandan robar carteras en nuestros eventos para despojar a la gente de la credencial de elector. no dejes de participar, pero cuida tu credencial que es la única arma que tienes\\nmira por qué están nerviosos. ve el acto de tijuana\\nvean cómo cerramos la jornada el día de hoy en ciudad obregón, sonora. como lo repite aquí la gente \"ahora sí\" o como lo dice la canción de amaury pérez \\'no lo van a impedir\\'.\\nel sábado propondré en consejo de morena que se destine 50% del gasto de campaña para 2018, en apoyo a damnificados\\nante la guerra sucia hago un llamado a los ciudadanos de vocación democrática y con dimensión ética que interactúan en redes sociales.\\nmuy buen diálogo circular con los estudiantes del tec de monterrey. críticos, inteligentes y respetuosos.\\nni chavismo, ni trumpismo; sí juarismo, maderismo, cardenismo, mexicanismo.\\nsinaloa no podía ser la excepción, también aquí la gente participa entusiasmada y feliz por el cambio que está por llegar.\\nmiren los actos que tuvimos en los mochis, guasave y guamúchil.\\nterminamos gira de 6 días por el norte del país. mañana milpa alta y xochimilco.\\nfue un placer conversar largamente y con profundidad con noam chomsky, uno de los intelectuales más destacados del mundo.\\nse olvidan salinas, peña, fox, calderón, yunes y chong que soy beisbolista. miren la jugada que les voy hacer a los malandros de la política\\n¡miren cuánta gente participó en el acto de tijuana! es impresionante el silencio y la forma como irrumpe la pasión esperanzadora.\\nreitero que no caeré en ninguna provocación aunque venga del presidente enrique peña nieto.\\nles comparto uno de los mensajes que se transmitirá durante la campaña por radio y televisión.\\nno es venganza, es justicia y austeridad republicana.\\nhe tratado el tema sobre las amenazas del presidente trump y su memorándum para enviar a la guardia nacional a la frontera. hoy en laredo volví a abordar el asunto y celebro que el presidente peña nieto haya respondido como lo hizo.\\nayer en una caricatura del reforma, dibujaron a vargas llosa jovial y a mí chocheando. me acordé que clemente orozco pintaba a díaz como gigante y a madero como pigmeo. guardadas las proporciones, no descarto que al monero se le quite lo retrógrada y se vuelva liberal. ojalá \\namor y paz. no voy a caer en provocaciones. vamos muy bien. cabeza fría, corazón caliente. así me lo aconseja la gente.\\nmis asesores, los rusos de tuxtla chico, tepetitán, catemaco, zacapoaxtla, tlaxiaco, la yesca, mocorito, imuri, bácum y de muchos otros pueblos, me recomiendan no pelearme y nos ha ido requetebién. miren esta encuesta. \\nmiren la participación de la gente en ensenada. si así está el norte, imaginen el sur. esto explica el nerviosismo de los de la mafia del poder, su desesperada e inútil guerra sucia. \\nhasta la encuesta cuchareada de fox news nos pone en primer lugar.\\nmuy bueno el encuentro con al gore. hicimos el compromiso de trabajar juntos para promover el desarrollo de energías renovables (solar, eólicas e hidráulicas) como opción ecológica y frente al cambio climático.\\nmiren cuánta gente en el acto de durango a pesar de ser jueves a las 11 de la mañana.\\n¡de norte a sur, de este a oeste, ganaremos esta lucha, cueste lo que cueste!\\nen león y en guadalajara terminamos la precampaña. en todos lados nos fue muy bien.\\ngracias de corazón.\\n¡ah, qué buena medicina!\\ngobernaremos con austeridad republicana.\\nhace tiempo que jesús silva-herzog márquez me cuestiona con conjeturas de toda índole. hoy, en el periódico reforma, me acusa sin motivo de oportunista. ni modo, son tiempos de enfrentar a la mafia del poder, a sus secuaces y articulistas conservadores con apariencia de liberales\\nme regalaron un \\'amlodipinito\\' porque quieren que siga en santa paz, sin pelearme y sin caer en provocaciones. \\nsegún la encuesta de \\'saba\\' crecimos después del debate. no pudieron trampearnos y por eso se intensifica la guerra sucia.\\ntodo será inútil, nada ni nadie podrá detener el anhelo de millones de mexicanos por un cambio.aquí en parral nunca habíamos tenido un acto con tanta gente\\nla verdadera doctrina de los conservadores es la hipocresía. ahora que necesitan los votos hasta reniegan de que aprobaron la mal llamada reforma educativa. lo nuestro es congruencia.\\niniciamos campaña en ciudad juárez, sinónimo de patria, a tres meses de las históricas elecciones presidenciales.\\nestoy introduciendo a esteban y a poncho en el populismo, como dirían los fifís.\\nestamos desayunando, en \"el camaroncito\" de cancún, unas suculentas tortas y tacos de lechón, lo mejor en toda la península de yucatán.\\nme da mucho gusto informar que el doctor jesús seade helú, uno de los mejores economistas de méxico, ha aceptado encabezar, si ganamos, el equipo negociador del tlcan.\\nlamento el accidente que tuvo maría de jesús patricio martínez, marichuy, y sus acompañantes.\\nexpreso mi pésame a los familiares de la persona que perdió la vida y deseo la pronta recuperación de quienes resultaron heridos.\\nsegundo día de entrenamiento perfeccionando la \"pejemoña\" que utilizaremos para ponchar a muchos.\\nen compañía de claudia sheinbaum, candidata al gobierno de la ciudad de méxico, conmemoramos el 80 aniversario de la expropiación petrolera, hicimos el compromiso de rescatar el sector energético y utilizar el petróleo como palanca de desarrollo como lo dispuso lázaro cárdenas\\nla campaña la está haciendo el pueblo con su ingenio y alegría. terminamos la visita a los cabos, vamos a tijuana.\\nno solo es el sureste. miren el acto de hoy lunes en tepic, nayarit \\nvamos a combinar \"la cuauhtemiña\" con la \"pejemoña\" para golear y blanquear, el primero de julio, al equipo de los malandros.\\nse los dije: estaba mejor chong. hoy se confirma con la encuesta de el universal, meade está en tercero. por más que epn, salinas, fox, cienfuegos, el almirante, claudio x, etc. etc.. lo inflan, no hace ni burbuja.\\ntodavía están a tiempo y es de sabios cambiar de opinión.\\nal triunfar, desde el primero de julio hasta el primero de diciembre, en el periodo en que seré presidente electo, llevaremos a cabo un amplio diálogo para analizar todas las opciones, elaborar un plan conjunto y conseguir la paz. \\nenrique krauze: en buena lid y con todo respeto, tú también eres de aquellos profundamente conservadores y que simulan, con apariencia de liberales. y por su puesto que acepto la crítica y respeto el derecho a disentir.\\nme llena de orgullo presentar a los candidatos a gobernadores y a la candidata a jefa de gobierno de la coalición \"juntos haremos historia\"\\nestuvimos con los ocho gobernadores de los pueblos yaquis. tomamos acuerdos como hermanos. nos recibieron con música y nos despidieron con la \\'danza del venado\\'.\\nlos candidatos pirrurris de la mafia del poder, meade y anaya, además de no visitar los pueblos y recoger los sentimientos de la gente, se pierden de comer la suculenta barbacoa de “el carnalito”.\\nles comparto la última encuesta de sdp. sigue la pelea por el segundo lugar entre los candidatos palomeados por la mafia del poder.\\nhabrá un auténtico estado de derecho, no de chueco o cohecho, como ahora.\\nbienvenidos cuauhtémoc blanco y la senadora, gabriela cuevas. la patria es primero.\\njuntos haremos historia.\\nme reporté al entrenamiento con las «guacamayas». me estoy preparando para la campaña presidencial y para la próxima temporada de béisbol. vamos a ganar por «blanqueada» y a la ofensiva batearemos jonrón con casa llena.\\npresidente trump: su muro nos agrede y deja la estatua de la libertad como leyenda. iremos a tribunales internacionales. viva la fraternidad\\npropondré al consejo nacional de morena destinar el 20% del gasto de campaña de 2018 para los damnificados del istmo y del sureste del país.\\nbuscaremos una relación de amistad y de cooperación con el gobierno de estados unidos, con respeto a nuestro pueblo y a la soberanía. los problemas sociales no se resuelven con muros ni con la militarización de la frontera, sino con desarrollo y bienestar\\nmiren la encuesta (tracking) de consultora saba del 12 de febrero:\\nhasta parece \"cuchareada\" a favor de nosotros, pero se dice que es una empresa seria y no es rusa o venezolana, es de méxico.\\naunque fox calumnie y se oponga al cambio a partir de 1 de diciembre del 18 dejará de recibir los 5 millones de pesos mensuales de pensión.\\n¡pero te peinas, cuñao!\\nacompañamos a claudia sheinbaum en las delegaciones de azcapotzalco y miguel hidalgo. la gente en la ciudad de méxico, como en todo el país, está llena de entusiasmo y esperanza. no fallaremos. \\nreforzamos el equipo de campaña\\xa0 para organizar, casilla por casilla y evitar el fraude electoral.\\nvan a actuar como representantes regionales: marcelo ebrard, ricardo monreal, julio scherer, rabindranath salazar y bertha elena luján.\\ncuando \"el gran zarpazo\" de 1848, unas familias de laredo quisieron seguir siendo mexicanos y cruzaron la nueva frontera, el río bravo, y fundaron, en el margen derecho, nuevo laredo.\\naquí andamos, donde comienza ahora la patria, escuchando morenita mía.\\nse eliminarán las pensiones millonarias a los expresidentes. se acabarán fueros y privilegios.\\ngracias por las felicitaciones anticipadas. mañana cumplo 64 y estoy al 100 con el favor de dios, del pueblo, la naturaleza y la ciencia.\\nlamento el fallecimiento de sergio pitol, siempre solidario con nosotros como fernando del paso y elenita poniatowska; los tres, grandes escritores y ciudadanos de buenos sentimientos y dimensión social\\nseguimos recogiendo los sentimientos y la sabiduría de la gente. en la mañana estuvimos en tequila, jalisco, y por la tarde en compostela, nayarit.\\natenderé personalmente y todos los días, desde las 6 am, el grave problema de la violencia. será secretario de seguridad pública alfonso durazo y consejeros: alejandro gertz, loretta ortiz, marcos fastlicht, el vicealmirante josé manuel solano y el general audomaro martínez.\\nel ine y el trife no inspiran confianza. por eso, nos estamos preparando al 100 para la defensa del voto. después de esta elección habrá, es nuestro compromiso, una auténtica democracia y ya no habrá fraude electoral en ninguna de sus modalidades.\\nno a la militarización de la frontera, ni al muro; sí al respeto mutuo y a la cooperación para el desarrollo\\nterminamos la gira por la frontera, además de reafirmar nuestra postura con relación a estados unidos, dimos a conocer nuestros proyectos para convertir a méxico en una potencia económica con trabajo, justicia y paz. nunca más los jóvenes van a ser olvidados.\\nlos del llamado \"frente opositor\" proponen que no haya financiamiento público a los partidos. les tomamos la palabra\\nel director de pemex fue ascendido a secretario de hacienda. durante su gestión cayó la producción petrolera y se aprobó el gasolinazo; tiene el mérito de ser concuño de salinas. lo de meade ni a destape llega. lo pronosticamos. además de corruptos, se han vuelto muy predecibles\\nestamos 15 puntos arriba en las encuestas pero habrá más guerra sucia y compra de votos. la opción es trabajar abajo y con la gente. ánimo.\\nterminamos veracruz, vamos a chiapas, pero pasamos a comer un caldo de pavo criollo sancochado a san juan el alto, jalapa, tabasco.\\nsaludo al mpjd en su séptimo aniversario. nosotros hablamos de perdón, pero jamás de impunidad ni de olvido. pronto tocará a víctimas sobrevivientes y a deudos indicarnos la ruta para la reconciliación.\\nexiste la inmortalidad en política. un hombre como juárez, por su pensamiento y su obra, puede ser querido y eterno.\\nen las encuestas estamos arriba en chihuahua. está llegando a su fin el bipartidismo del prian instaurado durante el salinismo y que solo ha dejado antidemocracia, corrupción y violencia.\\npeña relájate. no va a pasar nada, sólo les vamos a ganar el 4 de junio y la gente va celebrar bailando \"despajito\"\\nestamos a 9 meses del 1 de julio del 18. aunque no venga en la boleta, la pregunta implícita será ¿continuidad o cambio? hagamos  historia.\\nesperemos que se cumpla el compromiso de transparentar los contratos del nuevo aeropuerto y revisar su viabilidad técnica y económica\\nla caricatura de magú, de la jornada, me recordó a mi amigo carlos payán y su dicho callejero \"no sean montoneros, vénganse de diez en diez\"\\na 99 años del asesinato de zapata, recordamos su lucha y reafirmamos nuestros compromisos con indígenas y campesinos. comparto lineamientos básicos de la nueva política económica y social para el medio rural que se aplicará al triunfo de nuestro movimiento\\nno seré mediocre ni mucho menos traidor a la patria. aspiro a seguir el ejemplo de los grandes presidentes de méxico.\\nhoy iniciamos en tezonapa una gira de 7 días por veracruz.\\nel fallo del tepjf a favor del candidato \"independiente\" tiene mucha miga, pero lo mejor de la farsa es ver a integrantes de la mafia del poder, achichincles y voceros, rasgándose las vestiduras. la verdadera doctrina de los conservadores es la hipocresía.\\nepn recibió de yunes los videos de eva y los billullos \"para mí \" y ordenó a chong difundirlos. es increíble tanta bajeza. pero será safe\\ntuve un encuentro con desarrolladores inmobiliarios y hablamos de promover la inversión nacional y extranjera para la construcción de viviendas decorosas, sin corrupción en el manejo del uso del suelo y respetando el ambiente.\\nasí como empezamos en ciudad juárez, con mucha participación y alegría de la gente, terminamos la semana en zapopan. mañana azcapotzalco y miguel hidalgo, en la ciudad de méxico.\\nhace bien la esposa de calderón en rebelarse. está mejor posicionada que anaya y la excluyen. chong debe hacer lo mismo: “lo van a cepillar”\\ndetienen a duarte para simular que combaten la corrupción. pero el pueblo no se conforma con chivos expiatorios, quiere la caída del prian.\\nmañana daremos a conocer el plan para fortalecer la organización territorial de nuestro movimiento y evitar el fraude electoral, el único recurso que le queda a los de la mafia en el poder.\\nhoy hicimos asambleas en la paz y en hermosillo.\\n¿quieres saber por qué lanzaron la campaña vinculándonos con los rusos?\\nmira estás dos encuestas telefónicas del 16 y 17 de enero, una de la empresa saba y otra del gabinete de comunicación estratégica, de liébano saénz. \\nni antes, ni ahora, ni después, nunca es opción el uso de la fuerza. diálogo y tolerancia, no autoritarismo.\\n2 de octubre no se olvida\\n'"
      ]
     },
     "execution_count": 135,
     "metadata": {},
     "output_type": "execute_result"
    }
   ],
   "source": [
    "import re\n",
    "text = (open(\"amloClean.txt\", encoding=\"utf-8\").read())\n",
    "text = text.lower()\n",
    "text = re.sub(r\"http\\S+\", \"\", text)\n",
    "#text = bytes(text, \"utf-8\").decode(\"unicode_escape\")\n",
    "text"
   ]
  },
  {
   "cell_type": "code",
   "execution_count": 136,
   "metadata": {},
   "outputs": [],
   "source": [
    "characters = sorted(list(set(text)))\n",
    "n_to_char = {n:char for n, char in enumerate(characters)}\n",
    "char_to_n = {char:n for n, char in enumerate(characters)}"
   ]
  },
  {
   "cell_type": "code",
   "execution_count": 137,
   "metadata": {},
   "outputs": [],
   "source": [
    "X = []\n",
    "Y = []\n",
    "length = len(text)\n",
    "seq_length = 100"
   ]
  },
  {
   "cell_type": "code",
   "execution_count": 138,
   "metadata": {},
   "outputs": [],
   "source": [
    "for i in range(0, length-seq_length, 1):\n",
    "    sequence = text[i:i + seq_length]\n",
    "    label =text[i + seq_length]\n",
    "    X.append([char_to_n[char] for char in sequence])\n",
    "    Y.append(char_to_n[label])\n",
    "\n",
    "X_modified = np.reshape(X, (len(X), seq_length, 1))\n",
    "X_modified = X_modified / float(len(characters))\n",
    "Y_modified = np_utils.to_categorical(Y)"
   ]
  },
  {
   "cell_type": "code",
   "execution_count": 139,
   "metadata": {},
   "outputs": [
    {
     "data": {
      "text/plain": [
       "\"\\nmodel = Sequential()\\nmodel.add(LSTM(400, input_shape=(X_modified.shape[1], X_modified.shape[2]), return_sequences=True))\\nmodel.add(Dropout(0.2))\\nmodel.add(LSTM(400))\\nmodel.add(Dropout(0.2))\\nmodel.add(Dense(Y_modified.shape[1], activation='softmax'))\\nmodel.compile(loss='categorical_crossentropy', optimizer='adam')\\n\""
      ]
     },
     "execution_count": 139,
     "metadata": {},
     "output_type": "execute_result"
    }
   ],
   "source": [
    "model = Sequential()\n",
    "model.add(LSTM(400, input_shape=(X_modified.shape[1], X_modified.shape[2]), return_sequences=True))\n",
    "model.add(Dropout(0.2))\n",
    "model.add(LSTM(400, return_sequences=True))\n",
    "model.add(Dropout(0.2))\n",
    "model.add(LSTM(400))\n",
    "model.add(Dropout(0.2))\n",
    "model.add(Dense(Y_modified.shape[1], activation='softmax'))\n",
    "\n",
    "model.compile(loss='categorical_crossentropy', optimizer='adam')\n",
    "\n",
    "'''\n",
    "model = Sequential()\n",
    "model.add(LSTM(400, input_shape=(X_modified.shape[1], X_modified.shape[2]), return_sequences=True))\n",
    "model.add(Dropout(0.2))\n",
    "model.add(LSTM(400))\n",
    "model.add(Dropout(0.2))\n",
    "model.add(Dense(Y_modified.shape[1], activation='softmax'))\n",
    "model.compile(loss='categorical_crossentropy', optimizer='adam')\n",
    "'''"
   ]
  },
  {
   "cell_type": "code",
   "execution_count": 140,
   "metadata": {},
   "outputs": [
    {
     "name": "stdout",
     "output_type": "stream",
     "text": [
      "Epoch 1/100\n",
      "16260/16260 [==============================] - 678s 42ms/step - loss: 3.0534\n",
      "Epoch 2/100\n",
      "16260/16260 [==============================] - 673s 41ms/step - loss: 3.0074\n",
      "Epoch 3/100\n",
      "16260/16260 [==============================] - 675s 42ms/step - loss: 2.8769\n",
      "Epoch 4/100\n",
      "16260/16260 [==============================] - 670s 41ms/step - loss: 2.7809\n",
      "Epoch 5/100\n",
      "16260/16260 [==============================] - 672s 41ms/step - loss: 2.7314\n",
      "Epoch 6/100\n",
      "16260/16260 [==============================] - 670s 41ms/step - loss: 2.6756\n",
      "Epoch 7/100\n",
      "16260/16260 [==============================] - 671s 41ms/step - loss: 2.6210\n",
      "Epoch 8/100\n",
      "16260/16260 [==============================] - 667s 41ms/step - loss: 2.0470\n",
      "Epoch 15/100\n",
      "16260/16260 [==============================] - 673s 41ms/step - loss: 1.8938\n",
      "Epoch 16/100\n",
      "16260/16260 [==============================] - 672s 41ms/step - loss: 1.7306\n",
      "Epoch 17/100\n",
      "16260/16260 [==============================] - 673s 41ms/step - loss: 1.5595\n",
      "Epoch 18/100\n",
      "16260/16260 [==============================] - 674s 41ms/step - loss: 1.3964\n",
      "Epoch 19/100\n",
      "16260/16260 [==============================] - 673s 41ms/step - loss: 1.2242\n",
      "Epoch 20/100\n",
      "16260/16260 [==============================] - 674s 41ms/step - loss: 1.0530\n",
      "Epoch 21/100\n",
      "16260/16260 [==============================] - 675s 41ms/step - loss: 0.9099\n",
      "Epoch 22/100\n",
      "16260/16260 [==============================] - 675s 42ms/step - loss: 0.7785\n",
      "Epoch 23/100\n",
      "16260/16260 [==============================] - 675s 41ms/step - loss: 0.6579\n",
      "Epoch 24/100\n",
      "16260/16260 [==============================] - 676s 42ms/step - loss: 0.5557\n",
      "Epoch 25/100\n",
      "16260/16260 [==============================] - 676s 42ms/step - loss: 0.4731\n",
      "Epoch 26/100\n",
      "16260/16260 [==============================] - 674s 41ms/step - loss: 0.4125\n",
      "Epoch 27/100\n",
      "16260/16260 [==============================] - 672s 41ms/step - loss: 0.3373\n",
      "Epoch 28/100\n",
      "16260/16260 [==============================] - 676s 42ms/step - loss: 0.3030\n",
      "Epoch 29/100\n",
      "16260/16260 [==============================] - 675s 42ms/step - loss: 0.2794\n",
      "Epoch 30/100\n",
      "16260/16260 [==============================] - 679s 42ms/step - loss: 0.2359\n",
      "Epoch 31/100\n",
      "16260/16260 [==============================] - 673s 41ms/step - loss: 0.2153\n",
      "Epoch 32/100\n",
      "16260/16260 [==============================] - 673s 41ms/step - loss: 0.2004\n",
      "Epoch 33/100\n",
      "16260/16260 [==============================] - 673s 41ms/step - loss: 0.1917\n",
      "Epoch 34/100\n",
      "16260/16260 [==============================] - 673s 41ms/step - loss: 0.1738\n",
      "Epoch 35/100\n",
      "16260/16260 [==============================] - 675s 41ms/step - loss: 0.1652\n",
      "Epoch 36/100\n",
      "16260/16260 [==============================] - 676s 42ms/step - loss: 0.1661\n",
      "Epoch 37/100\n",
      "16260/16260 [==============================] - 670s 41ms/step - loss: 0.1576\n",
      "Epoch 38/100\n",
      "16260/16260 [==============================] - 670s 41ms/step - loss: 0.1573\n",
      "Epoch 39/100\n",
      "16260/16260 [==============================] - 672s 41ms/step - loss: 0.1333\n",
      "Epoch 40/100\n",
      "16260/16260 [==============================] - 673s 41ms/step - loss: 0.1438\n",
      "Epoch 41/100\n",
      "16260/16260 [==============================] - 674s 41ms/step - loss: 0.1403\n",
      "Epoch 42/100\n",
      "16260/16260 [==============================] - 670s 41ms/step - loss: 0.1199\n",
      "Epoch 43/100\n",
      "16260/16260 [==============================] - 672s 41ms/step - loss: 0.1462\n",
      "Epoch 44/100\n",
      "16260/16260 [==============================] - 672s 41ms/step - loss: 0.1271\n",
      "Epoch 45/100\n",
      "16260/16260 [==============================] - 671s 41ms/step - loss: 0.1102\n",
      "Epoch 46/100\n",
      "16260/16260 [==============================] - 672s 41ms/step - loss: 0.0939\n",
      "Epoch 47/100\n",
      "16260/16260 [==============================] - 670s 41ms/step - loss: 0.1220\n",
      "Epoch 48/100\n",
      "16260/16260 [==============================] - 668s 41ms/step - loss: 0.1350\n",
      "Epoch 49/100\n",
      "16260/16260 [==============================] - 666s 41ms/step - loss: 0.1080\n",
      "Epoch 50/100\n",
      "16260/16260 [==============================] - 668s 41ms/step - loss: 0.0977\n",
      "Epoch 51/100\n",
      "16260/16260 [==============================] - 670s 41ms/step - loss: 0.0880\n",
      "Epoch 52/100\n",
      "16260/16260 [==============================] - 671s 41ms/step - loss: 0.0936\n",
      "Epoch 53/100\n",
      "16260/16260 [==============================] - 675s 41ms/step - loss: 0.1297\n",
      "Epoch 55/100\n",
      "16260/16260 [==============================] - 670s 41ms/step - loss: 0.1019\n",
      "Epoch 56/100\n",
      "16260/16260 [==============================] - 670s 41ms/step - loss: 0.0884\n",
      "Epoch 57/100\n",
      "16260/16260 [==============================] - 668s 41ms/step - loss: 0.1012\n",
      "Epoch 58/100\n",
      "16260/16260 [==============================] - 665s 41ms/step - loss: 0.0967\n",
      "Epoch 59/100\n",
      "16260/16260 [==============================] - 664s 41ms/step - loss: 0.0921\n",
      "Epoch 60/100\n",
      "16260/16260 [==============================] - 663s 41ms/step - loss: 0.1004\n",
      "Epoch 61/100\n",
      "16260/16260 [==============================] - 663s 41ms/step - loss: 0.0961\n",
      "Epoch 62/100\n",
      "16260/16260 [==============================] - 667s 41ms/step - loss: 0.0895\n",
      "Epoch 63/100\n",
      "16260/16260 [==============================] - 661s 41ms/step - loss: 0.0912\n",
      "Epoch 64/100\n",
      "16260/16260 [==============================] - 663s 41ms/step - loss: 0.0983\n",
      "Epoch 65/100\n",
      "16260/16260 [==============================] - 661s 41ms/step - loss: 0.0876\n",
      "Epoch 66/100\n",
      "16260/16260 [==============================] - 660s 41ms/step - loss: 0.0905\n",
      "Epoch 67/100\n",
      "16260/16260 [==============================] - 662s 41ms/step - loss: 0.1031\n",
      "Epoch 68/100\n",
      "16260/16260 [==============================] - 663s 41ms/step - loss: 0.1003\n",
      "Epoch 69/100\n",
      "16260/16260 [==============================] - 656s 40ms/step - loss: 0.0900\n",
      "Epoch 70/100\n",
      "16260/16260 [==============================] - 656s 40ms/step - loss: 0.0762\n",
      "Epoch 71/100\n",
      "16260/16260 [==============================] - 657s 40ms/step - loss: 0.0811\n",
      "Epoch 72/100\n",
      "16260/16260 [==============================] - 655s 40ms/step - loss: 0.0837\n",
      "Epoch 73/100\n",
      "16260/16260 [==============================] - 664s 41ms/step - loss: 0.0864\n",
      "Epoch 74/100\n",
      "16260/16260 [==============================] - 652s 40ms/step - loss: 0.0868\n",
      "Epoch 75/100\n",
      "16260/16260 [==============================] - 648s 40ms/step - loss: 0.0892\n",
      "Epoch 76/100\n",
      "16260/16260 [==============================] - 652s 40ms/step - loss: 0.0914\n",
      "Epoch 77/100\n",
      "16260/16260 [==============================] - 648s 40ms/step - loss: 0.0854\n",
      "Epoch 78/100\n",
      "16260/16260 [==============================] - 649s 40ms/step - loss: 0.1117\n",
      "Epoch 79/100\n",
      "16260/16260 [==============================] - 654s 40ms/step - loss: 0.0793\n",
      "Epoch 80/100\n",
      "16260/16260 [==============================] - 653s 40ms/step - loss: 0.0755\n",
      "Epoch 81/100\n",
      "16260/16260 [==============================] - 653s 40ms/step - loss: 0.0804\n",
      "Epoch 82/100\n",
      "16260/16260 [==============================] - 652s 40ms/step - loss: 0.0980\n",
      "Epoch 83/100\n",
      "16260/16260 [==============================] - 651s 40ms/step - loss: 0.0819\n",
      "Epoch 84/100\n",
      "16260/16260 [==============================] - 658s 40ms/step - loss: 0.0927\n",
      "Epoch 85/100\n",
      "16260/16260 [==============================] - 652s 40ms/step - loss: 0.0861\n",
      "Epoch 86/100\n",
      "16260/16260 [==============================] - 654s 40ms/step - loss: 0.0788\n",
      "Epoch 87/100\n",
      "16260/16260 [==============================] - 653s 40ms/step - loss: 0.0978\n",
      "Epoch 88/100\n",
      "16260/16260 [==============================] - 651s 40ms/step - loss: 0.0915\n",
      "Epoch 89/100\n",
      "16260/16260 [==============================] - 654s 40ms/step - loss: 0.0851\n",
      "Epoch 90/100\n",
      "16260/16260 [==============================] - 656s 40ms/step - loss: 0.0733\n",
      "Epoch 91/100\n",
      "16260/16260 [==============================] - 653s 40ms/step - loss: 0.0709\n",
      "Epoch 92/100\n",
      "16260/16260 [==============================] - 654s 40ms/step - loss: 0.0685\n",
      "Epoch 93/100\n",
      "16260/16260 [==============================] - 654s 40ms/step - loss: 0.0775\n",
      "Epoch 94/100\n",
      "16260/16260 [==============================] - 655s 40ms/step - loss: 0.0851\n",
      "Epoch 95/100\n",
      "16260/16260 [==============================] - 659s 41ms/step - loss: 0.0880\n",
      "Epoch 96/100\n",
      "16260/16260 [==============================] - 655s 40ms/step - loss: 0.1030\n",
      "Epoch 97/100\n",
      "16260/16260 [==============================] - 656s 40ms/step - loss: 0.1020\n",
      "Epoch 98/100\n",
      "16260/16260 [==============================] - 658s 40ms/step - loss: 0.0805\n",
      "Epoch 99/100\n"
     ]
    },
    {
     "name": "stdout",
     "output_type": "stream",
     "text": [
      "16260/16260 [==============================] - 658s 40ms/step - loss: 0.0738\n",
      "Epoch 100/100\n",
      "16260/16260 [==============================] - 661s 41ms/step - loss: 0.0935\n"
     ]
    }
   ],
   "source": [
    "model.fit(X_modified, Y_modified, epochs=100, batch_size=50)\n",
    "model.save_weights(\"amlo_text_generator_400_0.2_400_0.2_deeper.h5\")"
   ]
  },
  {
   "cell_type": "code",
   "execution_count": 141,
   "metadata": {},
   "outputs": [],
   "source": [
    "#model.load_weights('amlo_text_generator_400_0.2_400_0.2_baseline.h5')\n",
    "model.load_weights('amlo_text_generator_400_0.2_400_0.2_deeper.h5')"
   ]
  },
  {
   "cell_type": "code",
   "execution_count": 150,
   "metadata": {},
   "outputs": [],
   "source": [
    "new_text = \"la mafia del poder quiere calumniar y acusarme de cosas que no he hecho. es un hecho irrefutable que q\"\n",
    "\n",
    "new_X = []\n",
    "new_length = len(new_text)\n",
    "seq_length = len(new_text)-2\n",
    "\n",
    "for i in range(0, new_length-seq_length, 1):\n",
    "    sequence = new_text[i:i + seq_length]\n",
    "    label = new_text[i + seq_length]\n",
    "    new_X.append([char_to_n[char] for char in sequence])\n",
    "    Y.append(char_to_n[label])\n",
    "\n",
    "string_mapped = new_X[1]\n",
    "full_string = [n_to_char[value] for value in string_mapped]\n",
    "\n",
    "#print(full_string)\n",
    "    \n",
    "for i in range(1000):\n",
    "    x = np.reshape(string_mapped,(1,len(string_mapped), 1))\n",
    "    x = x / float(len(characters))\n",
    "\n",
    "    pred_index = np.argmax(model.predict(x, verbose=0))\n",
    "    seq = [n_to_char[value] for value in string_mapped]\n",
    "    full_string.append(n_to_char[pred_index])\n",
    "\n",
    "    string_mapped.append(pred_index)\n",
    "    string_mapped = string_mapped[1:len(string_mapped)]\n",
    "    \n",
    "#print(string_mapped)"
   ]
  },
  {
   "cell_type": "code",
   "execution_count": 151,
   "metadata": {
    "collapsed": false
   },
   "outputs": [
    {
     "data": {
      "text/plain": [
       "'a mafia del poder quiere calumniar y acusarme de cosas que no he hecho. es un hecho irrefutable que seli ma iicie podre reges está la gente \"ahora sí\" o como lo dice la canción de amaury pérez \\'no lo van a impedir\\'.\\nel sábado propondré en consejo de morena que se destine 50% del gasto de campaña de 2018 para los damnificados del istmo y del sureste del país.\\nbuscaremos una relación de amistad y de cooperación con el gobierno de estados unidos, con respeto a nuestro pueblo y a la soberanía. los problemas sociales no se resuelven con muros ni con la militarización de la frontera, ni al muro; sí al respeto mutuo y a la cooperación para el desarrollo\\nterminamos la gira por la frontera, además de reafirmar nuestra postura con relación a estados unidos, dimos a conocer nuestros proyectos para convertir a méxico en una potencia económica y social para el medio rural que se aplicará al triunfo de nuestro movimiento\\nno seré mediocre ni mucho menos traidor a la patria. aspiro a seguir el ejemplo de los grandes presidentes de méxico.\\nhoy iniciamos en tezonapa una gira de 7 días por veracruz.\\nel'"
      ]
     },
     "execution_count": 151,
     "metadata": {},
     "output_type": "execute_result"
    }
   ],
   "source": [
    "#combining text\n",
    "txt=\"\"\n",
    "for char in full_string:\n",
    "    txt = txt+char\n",
    "txt"
   ]
  },
  {
   "cell_type": "markdown",
   "metadata": {},
   "source": [
    "# Texto generado de manera aleatoria"
   ]
  },
  {
   "cell_type": "code",
   "execution_count": 154,
   "metadata": {},
   "outputs": [],
   "source": [
    "string_mapped = X[80]\n",
    "full_string = [n_to_char[value] for value in string_mapped]\n",
    "# generating characters\n",
    "for i in range(400):\n",
    "    x = np.reshape(string_mapped,(1,len(string_mapped), 1))\n",
    "    x = x / float(len(characters))\n",
    "\n",
    "    pred_index = np.argmax(model.predict(x, verbose=0))\n",
    "    seq = [n_to_char[value] for value in string_mapped]\n",
    "    full_string.append(n_to_char[pred_index])\n",
    "\n",
    "    string_mapped.append(pred_index)\n",
    "    string_mapped = string_mapped[1:len(string_mapped)]"
   ]
  },
  {
   "cell_type": "code",
   "execution_count": 155,
   "metadata": {},
   "outputs": [
    {
     "data": {
      "text/plain": [
       "'itas que le traje a jesús de la gira por el norte.\\nya no soy peje, ahora soy andresmanuelovich\\nmeade, además de tapadera, es un calumniador. anexo las pruebas para demostrar que los \"tres departamentos\" no son míos. éa no say a caeo a fasor de 1 de junio y la gente va celebrar bailando \"despajito\"\\nestamos a 9 meses del 1 de julio del 18. aunque no venga en la boleta, la pregunta implícita será ¿continuidad o cambio? hagamos  historia.\\nesperemos que se cumpla el compromiso de transparentar los co'"
      ]
     },
     "execution_count": 155,
     "metadata": {},
     "output_type": "execute_result"
    }
   ],
   "source": [
    "#combining text\n",
    "txt=\"\"\n",
    "for char in full_string:\n",
    "    txt = txt+char\n",
    "txt"
   ]
  },
  {
   "cell_type": "code",
   "execution_count": null,
   "metadata": {},
   "outputs": [],
   "source": []
  }
 ],
 "metadata": {
  "kernelspec": {
   "display_name": "Environment (conda_tensorflow_p36)",
   "language": "python",
   "name": "conda_tensorflow_p36"
  },
  "language_info": {
   "codemirror_mode": {
    "name": "ipython",
    "version": 3
   },
   "file_extension": ".py",
   "mimetype": "text/x-python",
   "name": "python",
   "nbconvert_exporter": "python",
   "pygments_lexer": "ipython3",
   "version": "3.6.4"
  }
 },
 "nbformat": 4,
 "nbformat_minor": 2
}
